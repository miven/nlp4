{
 "cells": [
  {
   "cell_type": "markdown",
   "metadata": {},
   "source": [
    "## 1.我们需要获取数据，但不需要一直获取数据\n",
    "## 2.我们需要做容错\n",
    "## 3.一些数据的处理不需要放在逻辑层里"
   ]
  },
  {
   "cell_type": "code",
   "execution_count": 1,
   "metadata": {},
   "outputs": [],
   "source": [
    "class mid_class():\n",
    "    def _init__(self):\n",
    "        '''\n",
    "        初始化数据填充交易所的信息，首次获取价格，首次获取account信息\n",
    "        设定好密钥……\n",
    "        '''\n",
    "        pass\n",
    "    \n",
    "    def get_account(self):\n",
    "        '''\n",
    "        获取账户信息\n",
    "        '''\n",
    "        pass\n",
    "    \n",
    "    def get_ticker(self):\n",
    "        '''\n",
    "        获取市价信息\n",
    "        '''\n",
    "        pass\n",
    "        \n",
    "    def get_depth(self):\n",
    "        '''\n",
    "        获取深度信息\n",
    "        '''\n",
    "        pass\n",
    "    \n",
    "    def get_ohlc_data(self):\n",
    "        '''\n",
    "        获取K线信息\n",
    "        '''\n",
    "        pass\n",
    "    \n",
    "    def create_order(self):\n",
    "        '''\n",
    "        post一个挂单信息\n",
    "        '''\n",
    "        pass\n",
    "    \n",
    "    def cancel_order(self):\n",
    "        '''\n",
    "        取消一个挂单信息\n",
    "        '''\n",
    "        pass\n",
    "        \n",
    "    def refreash_data(self):\n",
    "        '''\n",
    "        刷新信息\n",
    "        '''\n",
    "        pass"
   ]
  }
 ],
 "metadata": {
  "kernelspec": {
   "display_name": "Python [conda env:py37]",
   "language": "python",
   "name": "conda-env-py37-py"
  },
  "language_info": {
   "codemirror_mode": {
    "name": "ipython",
    "version": 3
   },
   "file_extension": ".py",
   "mimetype": "text/x-python",
   "name": "python",
   "nbconvert_exporter": "python",
   "pygments_lexer": "ipython3",
   "version": "3.5.4"
  }
 },
 "nbformat": 4,
 "nbformat_minor": 2
}