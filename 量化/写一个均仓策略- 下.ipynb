{
 "cells": [
  {
   "cell_type": "markdown",
   "metadata": {},
   "source": [
    "# 1、写一个均仓策略\n",
    "# 2、如何debug\n",
    "# 3、如何使用FMZ（botvs）的回测"
   ]
  },
  {
   "cell_type": "code",
   "execution_count": 1,
   "metadata": {
    "collapsed": true
   },
   "outputs": [],
   "source": [
    "class mid_class():\n",
    "    def __init__(self, this_exchange):\n",
    "        '''\n",
    "        初始化数据填充交易所的信息，首次获取价格，首次获取account信息\n",
    "        设定好密钥……\n",
    "        \n",
    "        Args:\n",
    "            this_exchange: FMZ的交易所结构\n",
    "        \n",
    "        '''\n",
    "        self.init_timestamp = time.time()\n",
    "        self.exchange = this_exchange\n",
    "        self.name = self.exchange.GetName()\n",
    "        self.jyd = self.exchange.GetCurrency()        \n",
    "    \n",
    "    def get_account(self):\n",
    "        '''\n",
    "        获取账户信息\n",
    "        \n",
    "        Returns:\n",
    "            获取信息成功返回True，获取信息失败返回False\n",
    "        '''\n",
    "        self.Balance = '---'\n",
    "        self.Amount = '---'\n",
    "        self.FrozenBalance = '---'\n",
    "        self.FrozenStocks = '---'\n",
    "        \n",
    "        try:\n",
    "            self.account = self.exchange.GetAccount()\n",
    "\n",
    "            self.Balance =  self.account['Balance']\n",
    "            self.Amount = self.account['Stocks']\n",
    "            self.FrozenBalance =  self.account['FrozenBalance']\n",
    "            self.FrozenStocks = self.account['FrozenStocks']\n",
    "            return True\n",
    "        except:\n",
    "            return False\n",
    "    \n",
    "    def get_ticker(self):\n",
    "        '''\n",
    "        获取市价信息\n",
    "        \n",
    "        Returns:\n",
    "            获取信息成功返回True，获取信息失败返回False\n",
    "        '''\n",
    "        self.high = '---'\n",
    "        self.low = '---'\n",
    "        self.Sell =  '---'\n",
    "        self.Buy =  '---'\n",
    "        self.last =  '---'\n",
    "        self.Volume = '---'\n",
    "        \n",
    "        try:\n",
    "            self.ticker = self.exchange.GetTicker()\n",
    "        \n",
    "            self.high = self.ticker['High']\n",
    "            self.low = self.ticker['Low']\n",
    "            self.Sell =  self.ticker['Sell']\n",
    "            self.Buy =  self.ticker['Buy']\n",
    "            self.last =  self.ticker['Last']\n",
    "            self.Volume = self.ticker['Volume']\n",
    "            return True\n",
    "        except:\n",
    "            return False\n",
    "        \n",
    "        \n",
    "    def get_depth(self):\n",
    "        '''\n",
    "        获取深度信息\n",
    "        \n",
    "        Returns:\n",
    "            获取信息成功返回True，获取信息失败返回False\n",
    "        '''\n",
    "        self.Ask = '---'\n",
    "        self.Bids = '---'\n",
    "        \n",
    "        try:\n",
    "            self.Depth = self.exchange.GetDepth()\n",
    "            self.Ask = self.Depth['Asks']\n",
    "            self.Bids = self.Depth ['Bids']\n",
    "            return True\n",
    "        except:\n",
    "            return False\n",
    "        \n",
    "        \n",
    "    \n",
    "    def get_ohlc_data(self, period = PERIOD_M5):\n",
    "        '''\n",
    "        获取K线信息\n",
    "        \n",
    "        Args:\n",
    "            period: K线周期，PERIOD_M1 指1分钟, PERIOD_M5 指5分钟, PERIOD_M15 指15分钟,\n",
    "            PERIOD_M30 指30分钟, PERIOD_H1 指1小时, PERIOD_D1 指一天。\n",
    "        '''\n",
    "        self.ohlc_data = exchange.GetRecords(period)\n",
    "        \n",
    "        \n",
    "    \n",
    "    def create_order(self, order_type, price, amount):\n",
    "        '''\n",
    "        post一个挂单信息\n",
    "        \n",
    "        Args:\n",
    "            order_type：挂单类型，'buy'指挂买单，'sell'指挂卖单\n",
    "            price：挂单价格\n",
    "            amount:挂单数量\n",
    "            \n",
    "        Returns:\n",
    "            挂单Id号，可用以取消挂单\n",
    "        '''\n",
    "        if order_type == 'buy':\n",
    "            try:\n",
    "                order_id = self.exchange.Buy( price, amount)\n",
    "            except:\n",
    "                return False\n",
    "            \n",
    "        elif order_type == 'sell':\n",
    "            try:\n",
    "                order_id = self.exchange.Sell( price, amount)\n",
    "            except:\n",
    "                return False\n",
    "        \n",
    "        return order_id\n",
    "    \n",
    "    def cancel_order(self, order_id):\n",
    "        '''\n",
    "        取消一个挂单信息\n",
    "        \n",
    "        Args:\n",
    "            order_id：希望取消的挂单ID号\n",
    "            \n",
    "        Returns:\n",
    "            取消挂单成功返回True，取消挂单失败返回False\n",
    "        '''\n",
    "        return self.exchange.CancelOrder(order_id)\n",
    "        \n",
    "    def refreash_data(self):\n",
    "        '''\n",
    "        刷新信息\n",
    "        \n",
    "        Returns:\n",
    "            刷新信息成功返回 'refreash_data_finish!' 否则返回相应刷新失败的信息提示\n",
    "        '''\n",
    "\n",
    "        if not self.get_account():\n",
    "            return 'false_get_account'\n",
    "        \n",
    "        if not self.get_ticker():\n",
    "            return 'false_get_ticker'\n",
    "        if not self.get_depth():\n",
    "            return 'false_get_depth'\n",
    "        try:\n",
    "            self.get_ohlc_data()\n",
    "        except:\n",
    "            return 'false_get_K_line_info'\n",
    "        \n",
    "        return 'refreash_data_finish!'\n"
   ]
  },
  {
   "cell_type": "code",
   "execution_count": 3,
   "metadata": {
    "collapsed": true
   },
   "outputs": [],
   "source": [
    "class juncang_class():\n",
    "    def __init__(self, mid_class):\n",
    "        self.jys = mid_class\n",
    "        self.last_time = time.time()\n",
    "        self.last_trade_price = self.jys.last\n",
    "        self.Buy_count = 0\n",
    "        self.Sell_count = 0\n",
    "        \n",
    "    def make_need_account_info(self):\n",
    "        self.jys.refreash_data()\n",
    "        self.B = self.jys.Amount\n",
    "        self.money = self.jys.Balance\n",
    "        now_price = self.jys.last\n",
    "        \n",
    "        self.total_money = self.B* now_price + self.money\n",
    "        self.half_money = self.total_money/2\n",
    "        self.need_buy = (self.half_money - self.B*now_price )/now_price\n",
    "        self.need_sell = (self.half_money - self.money)/now_price\n",
    "    \n",
    "    def do_juncang(self):\n",
    "        if self.need_buy > 0.002:\n",
    "            self.jys.create_order( 'buy', self.jys.low , self.need_buy ) \n",
    "            self.Buy_count +=1\n",
    "        elif self.need_sell > 0.002:\n",
    "            self.jys.create_order( 'sell', self.jys.high , self.need_sell ) \n",
    "            self.Sell_count += 1\n",
    "        \n",
    "        Log('Buy_times:',self.Buy_count , 'Sell_times:', self.Sell_count)\n",
    "        \n",
    "    \n",
    "    def if_need_trade(self, condition, prama):\n",
    "        if condition == 'time':\n",
    "            if time.time() - self.last_time > prama:\n",
    "                self.do_juncang()\n",
    "                self.last_time = time.time()\n",
    "        if condition == 'price':\n",
    "            if abs((self.jys.last -  self.last_trade_price)/self.last_trade_price)  > prama:\n",
    "                self.do_juncang()\n",
    "                self.last_trade_price = self.jys.last"
   ]
  },
  {
   "cell_type": "code",
   "execution_count": 4,
   "metadata": {
    "collapsed": true
   },
   "outputs": [],
   "source": [
    "def main():\n",
    "    test_mid = mid_class(exchange)\n",
    "    Log(test_mid.refreash_data())\n",
    "    test_juncang = juncang_class(test_mid)\n",
    "    \n",
    "    while(True):\n",
    "        Sleep(1000)\n",
    "        test_juncang.make_need_account_info()\n",
    "        test_juncang.if_need_trade( 'price', 0.05 )"
   ]
  },
  {
   "cell_type": "code",
   "execution_count": null,
   "metadata": {
    "collapsed": true
   },
   "outputs": [],
   "source": [
    "1 1000 --- 1000"
   ]
  },
  {
   "cell_type": "code",
   "execution_count": 5,
   "metadata": {
    "collapsed": false
   },
   "outputs": [
    {
     "data": {
      "text/plain": [
       "1.5"
      ]
     },
     "execution_count": 5,
     "metadata": {},
     "output_type": "execute_result"
    }
   ],
   "source": [
    "0.75 + 1500 ---- 2000"
   ]
  },
  {
   "cell_type": "code",
   "execution_count": 8,
   "metadata": {
    "collapsed": false
   },
   "outputs": [
    {
     "data": {
      "text/plain": [
       "1125"
      ]
     },
     "execution_count": 8,
     "metadata": {},
     "output_type": "execute_result"
    }
   ],
   "source": [
    "1.125 1125  --- 1000"
   ]
  },
  {
   "cell_type": "code",
   "execution_count": null,
   "metadata": {
    "collapsed": true
   },
   "outputs": [],
   "source": []
  },
  {
   "cell_type": "code",
   "execution_count": null,
   "metadata": {
    "collapsed": true
   },
   "outputs": [],
   "source": [
    "1 1000 --- 1000"
   ]
  },
  {
   "cell_type": "code",
   "execution_count": null,
   "metadata": {
    "collapsed": true
   },
   "outputs": [],
   "source": [
    "1.5 750 ---- 500"
   ]
  },
  {
   "cell_type": "code",
   "execution_count": null,
   "metadata": {
    "collapsed": true
   },
   "outputs": [],
   "source": [
    "1.5 750 ---- 200"
   ]
  },
  {
   "cell_type": "code",
   "execution_count": 4,
   "metadata": {
    "collapsed": false
   },
   "outputs": [
    {
     "data": {
      "text/plain": [
       "1050.0"
      ]
     },
     "execution_count": 4,
     "metadata": {},
     "output_type": "execute_result"
    }
   ],
   "source": [
    "(1.5*200 + 750)"
   ]
  },
  {
   "cell_type": "code",
   "execution_count": 5,
   "metadata": {
    "collapsed": false
   },
   "outputs": [
    {
     "data": {
      "text/plain": [
       "1200"
      ]
     },
     "execution_count": 5,
     "metadata": {},
     "output_type": "execute_result"
    }
   ],
   "source": [
    "1*200 + 1000"
   ]
  },
  {
   "cell_type": "code",
   "execution_count": 3,
   "metadata": {
    "collapsed": false
   },
   "outputs": [
    {
     "data": {
      "text/plain": [
       "2.625"
      ]
     },
     "execution_count": 3,
     "metadata": {},
     "output_type": "execute_result"
    }
   ],
   "source": [
    "2.625 525.0 ---- 200"
   ]
  },
  {
   "cell_type": "markdown",
   "metadata": {},
   "source": [
    "## 均仓策略 收益来源于价格一定范围内来回波动 风险来源于在执行操作之后，价格继续单边（上涨或下跌）"
   ]
  },
  {
   "cell_type": "code",
   "execution_count": 6,
   "metadata": {
    "collapsed": false
   },
   "outputs": [
    {
     "data": {
      "text/plain": [
       "0.957345971563981"
      ]
     },
     "execution_count": 6,
     "metadata": {},
     "output_type": "execute_result"
    }
   ],
   "source": [
    "202 /211"
   ]
  },
  {
   "cell_type": "code",
   "execution_count": 7,
   "metadata": {
    "collapsed": false
   },
   "outputs": [
    {
     "data": {
      "text/plain": [
       "0.9737274220032841"
      ]
     },
     "execution_count": 7,
     "metadata": {},
     "output_type": "execute_result"
    }
   ],
   "source": [
    "593/ 609"
   ]
  },
  {
   "cell_type": "code",
   "execution_count": 8,
   "metadata": {
    "collapsed": false
   },
   "outputs": [
    {
     "data": {
      "text/plain": [
       "1.0022050716648292"
      ]
     },
     "execution_count": 8,
     "metadata": {},
     "output_type": "execute_result"
    }
   ],
   "source": [
    "4545 /4535"
   ]
  },
  {
   "cell_type": "code",
   "execution_count": 9,
   "metadata": {
    "collapsed": false
   },
   "outputs": [
    {
     "data": {
      "text/plain": [
       "134"
      ]
     },
     "execution_count": 9,
     "metadata": {},
     "output_type": "execute_result"
    }
   ],
   "source": [
    "3677 - 3543"
   ]
  },
  {
   "cell_type": "code",
   "execution_count": 11,
   "metadata": {
    "collapsed": false
   },
   "outputs": [
    {
     "data": {
      "text/plain": [
       "10"
      ]
     },
     "execution_count": 11,
     "metadata": {},
     "output_type": "execute_result"
    }
   ],
   "source": [
    "4545- 4535"
   ]
  },
  {
   "cell_type": "markdown",
   "metadata": {},
   "source": [
    "# 一般价格变动范围设置在手续费的4倍左右为基准开始调优较为合理：\n",
    "### 市场活跃时，手续费1.5~2倍都时可以的。市场不太活跃时，手续费的8倍，十倍，甚至二十，五十倍都是可以的。\n",
    "\n",
    "# 控制最小交易数量，也可以降低交易频率，增加抓取到更优点位的概率。从而提高收益"
   ]
  },
  {
   "cell_type": "code",
   "execution_count": null,
   "metadata": {
    "collapsed": true
   },
   "outputs": [],
   "source": []
  }
 ],
 "metadata": {
  "kernelspec": {
   "display_name": "Python 3",
   "language": "python",
   "name": "python3"
  },
  "language_info": {
   "codemirror_mode": {
    "name": "ipython",
    "version": 3
   },
   "file_extension": ".py",
   "mimetype": "text/x-python",
   "name": "python",
   "nbconvert_exporter": "python",
   "pygments_lexer": "ipython3",
   "version": "3.6.0"
  }
 },
 "nbformat": 4,
 "nbformat_minor": 2
}
