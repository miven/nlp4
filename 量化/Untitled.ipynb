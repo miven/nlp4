{
 "cells": [
  {
   "cell_type": "code",
   "execution_count": 7,
   "metadata": {},
   "outputs": [
    {
     "name": "stdout",
     "output_type": "stream",
     "text": [
      "{'Stocks': 0.0, 'FrozenBalance': 0.0, 'Balance': 3.0, 'FrozenStocks': 0.0}\n",
      "{'Sell': 0.01459702, 'Last': 0.01459701, 'Low': 0.014597, 'Buy': 0.014597, 'Volume': 182.5233, 'High': 0.01459702, 'Time': 1529337600000}\n",
      "b'{\"Chart\":{\"Cfg\":\"\",\"Datas\":[]},\"Elapsed\":471000000,\"Finished\":true,\"Indicators\":{},\"LoadBytes\":488573,\"LoadElapsed\":455000000,\"LogsCount\":0,\"Profit\":0.0,\"ProfitLogs\":[],\"Progress\":100.0,\"RuntimeLogs\":[],\"Snapshort\":[{\"Balance\":3.0,\"BaseCurrency\":\"LTC\",\"Commission\":0.0,\"FrozenBalance\":0.0,\"FrozenStocks\":0.0,\"Id\":\"OKEX\",\"QuoteCurrency\":\"BTC\",\"Stocks\":0.0,\"Symbols\":{\"LTC_BTC_OKEX\":{\"Last\":0.01117758}},\"TradeStatus\":{}}],\"Status\":\"\",\"Task\":{\"Args\":null,\"Exchanges\":[{\"Balance\":3,\"BaseCurrency\":\"LTC\",\"BasePeriod\":300000,\"BasePrecision\":4,\"DepthAmount\":20,\"DepthDeep\":5,\"FaultTolerant\":0,\"FeeDenominator\":5,\"FeeMaker\":75,\"FeeMin\":0,\"FeeTaker\":80,\"Id\":\"OKEX\",\"Label\":\"OKEX\",\"PriceTick\":1e-08,\"QuoteCurrency\":\"BTC\",\"QuotePrecision\":8,\"SlipPoint\":0,\"Stocks\":0}],\"Options\":{\"DataServer\":\"q.fmz.com\",\"MaxChartLogs\":800,\"MaxProfitLogs\":800,\"MaxRuntimeLogs\":800,\"NetDelay\":200,\"Period\":900000,\"RetFlags\":189,\"SnapshortPeriod\":300000,\"TimeBegin\":1529337600,\"TimeEnd\":1532232000,\"UpdatePeriod\":5000}},\"TaskStatus\":1,\"Time\":1532232000000}'\n"
     ]
    }
   ],
   "source": [
    "'''backtest\n",
    "start: 2018-06-19 00:00:00\n",
    "end: 2018-07-22 12:00:00\n",
    "period: 15m\n",
    "exchanges: [{\"eid\":\"OKEX\",\"currency\":\"LTC_BTC\",\"balance\":3,\"stocks\":0}]\n",
    "'''\n",
    "from fmz import *\n",
    "task = VCtx(__doc__) # initialize backtest engine from __doc__\n",
    "print (exchange.GetAccount())\n",
    "print( exchange.GetTicker())\n",
    "print( task.Join()) # print backtest result"
   ]
  },
  {
   "cell_type": "code",
   "execution_count": 8,
   "metadata": {},
   "outputs": [
    {
     "name": "stdout",
     "output_type": "stream",
     "text": [
      "{'Stocks': 0.0, 'FrozenBalance': 0.0, 'Balance': 3.0, 'FrozenStocks': 0.0}\n"
     ]
    },
    {
     "ename": "OSError",
     "evalue": "exception: access violation reading 0x0000628C0724EE18",
     "output_type": "error",
     "traceback": [
      "\u001b[1;31m---------------------------------------------------------------------------\u001b[0m",
      "\u001b[1;31mOSError\u001b[0m                                   Traceback (most recent call last)",
      "\u001b[1;32m<ipython-input-8-9600b0c723fb>\u001b[0m in \u001b[0;36m<module>\u001b[1;34m()\u001b[0m\n\u001b[0;32m      1\u001b[0m \u001b[0mprint\u001b[0m \u001b[1;33m(\u001b[0m\u001b[0mexchange\u001b[0m\u001b[1;33m.\u001b[0m\u001b[0mGetAccount\u001b[0m\u001b[1;33m(\u001b[0m\u001b[1;33m)\u001b[0m\u001b[1;33m)\u001b[0m\u001b[1;33m\u001b[0m\u001b[0m\n\u001b[1;32m----> 2\u001b[1;33m \u001b[0mprint\u001b[0m\u001b[1;33m(\u001b[0m \u001b[0mexchange\u001b[0m\u001b[1;33m.\u001b[0m\u001b[0mGetTicker\u001b[0m\u001b[1;33m(\u001b[0m\u001b[1;33m)\u001b[0m\u001b[1;33m)\u001b[0m\u001b[1;33m\u001b[0m\u001b[0m\n\u001b[0m\u001b[0;32m      3\u001b[0m \u001b[0mprint\u001b[0m\u001b[1;33m(\u001b[0m \u001b[0mtask\u001b[0m\u001b[1;33m.\u001b[0m\u001b[0mJoin\u001b[0m\u001b[1;33m(\u001b[0m\u001b[1;33m)\u001b[0m\u001b[1;33m)\u001b[0m \u001b[1;31m# print backtest result\u001b[0m\u001b[1;33m\u001b[0m\u001b[0m\n",
      "\u001b[1;32mE:\\ProgramData\\Anaconda3\\envs\\py37\\lib\\site-packages\\fmz.py\u001b[0m in \u001b[0;36mGetTicker\u001b[1;34m(self)\u001b[0m\n\u001b[0;32m    642\u001b[0m     \u001b[1;32mdef\u001b[0m \u001b[0mGetTicker\u001b[0m\u001b[1;33m(\u001b[0m\u001b[0mself\u001b[0m\u001b[1;33m)\u001b[0m\u001b[1;33m:\u001b[0m\u001b[1;33m\u001b[0m\u001b[0m\n\u001b[0;32m    643\u001b[0m         \u001b[0mr\u001b[0m \u001b[1;33m=\u001b[0m \u001b[0m_TICKER\u001b[0m\u001b[1;33m(\u001b[0m\u001b[1;33m)\u001b[0m\u001b[1;33m\u001b[0m\u001b[0m\n\u001b[1;32m--> 644\u001b[1;33m         \u001b[0mret\u001b[0m \u001b[1;33m=\u001b[0m \u001b[0mself\u001b[0m\u001b[1;33m.\u001b[0m\u001b[0mlib\u001b[0m\u001b[1;33m.\u001b[0m\u001b[0mapi_Exchange_GetTicker\u001b[0m\u001b[1;33m(\u001b[0m\u001b[0mself\u001b[0m\u001b[1;33m.\u001b[0m\u001b[0mctx\u001b[0m\u001b[1;33m,\u001b[0m \u001b[0mself\u001b[0m\u001b[1;33m.\u001b[0m\u001b[0midx\u001b[0m\u001b[1;33m,\u001b[0m \u001b[0mctypes\u001b[0m\u001b[1;33m.\u001b[0m\u001b[0mbyref\u001b[0m\u001b[1;33m(\u001b[0m\u001b[0mr\u001b[0m\u001b[1;33m)\u001b[0m\u001b[1;33m)\u001b[0m\u001b[1;33m\u001b[0m\u001b[0m\n\u001b[0m\u001b[0;32m    645\u001b[0m         \u001b[1;32mif\u001b[0m \u001b[0mret\u001b[0m \u001b[1;33m==\u001b[0m \u001b[0mAPI_ERR_SUCCESS\u001b[0m\u001b[1;33m:\u001b[0m\u001b[1;33m\u001b[0m\u001b[0m\n\u001b[0;32m    646\u001b[0m             \u001b[1;32mreturn\u001b[0m \u001b[0mr\u001b[0m\u001b[1;33m.\u001b[0m\u001b[0mtoObj\u001b[0m\u001b[1;33m(\u001b[0m\u001b[1;33m)\u001b[0m\u001b[1;33m\u001b[0m\u001b[0m\n",
      "\u001b[1;31mOSError\u001b[0m: exception: access violation reading 0x0000628C0724EE18"
     ]
    }
   ],
   "source": [
    "print (exchange.GetAccount())\n",
    "print( exchange.GetTicker())\n",
    "print( task.Join()) # print backtest result"
   ]
  },
  {
   "cell_type": "code",
   "execution_count": null,
   "metadata": {},
   "outputs": [],
   "source": []
  }
 ],
 "metadata": {
  "kernelspec": {
   "display_name": "Python [conda env:py37]",
   "language": "python",
   "name": "conda-env-py37-py"
  },
  "language_info": {
   "codemirror_mode": {
    "name": "ipython",
    "version": 3
   },
   "file_extension": ".py",
   "mimetype": "text/x-python",
   "name": "python",
   "nbconvert_exporter": "python",
   "pygments_lexer": "ipython3",
   "version": "3.5.4"
  }
 },
 "nbformat": 4,
 "nbformat_minor": 2
}
